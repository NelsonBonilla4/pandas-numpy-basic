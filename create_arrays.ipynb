{
 "cells": [
  {
   "cell_type": "markdown",
   "metadata": {},
   "source": [
    "# Creación de arrays con Numpy"
   ]
  },
  {
   "cell_type": "code",
   "execution_count": 2,
   "metadata": {},
   "outputs": [],
   "source": [
    "import numpy as np"
   ]
  },
  {
   "cell_type": "code",
   "execution_count": 3,
   "metadata": {},
   "outputs": [
    {
     "name": "stdout",
     "output_type": "stream",
     "text": [
      "[1 2 3 4 5 6 7 8 9]\n"
     ]
    }
   ],
   "source": [
    "# Una lista con Python\n",
    "py_ist = list(range(1, 10))\n",
    "np_arr = np.arange(1, 10)\n",
    "print(np_arr)"
   ]
  },
  {
   "cell_type": "code",
   "execution_count": 5,
   "metadata": {},
   "outputs": [
    {
     "name": "stdout",
     "output_type": "stream",
     "text": [
      "[0 2 4 6 8]\n"
     ]
    }
   ],
   "source": [
    "# Lista de Numpy con steps\n",
    "\n",
    "np_arr = np.arange(0, 10, 2)\n",
    "print(np_arr)"
   ]
  },
  {
   "cell_type": "code",
   "execution_count": 11,
   "metadata": {},
   "outputs": [
    {
     "name": "stdout",
     "output_type": "stream",
     "text": [
      "[0. 0. 0. 0. 0. 0. 0. 0. 0. 0.]\n"
     ]
    }
   ],
   "source": [
    "# Vector de numpy con 0\n",
    "v_zeros = np.zeros(10)\n",
    "print(v_zeros)"
   ]
  },
  {
   "cell_type": "code",
   "execution_count": 13,
   "metadata": {},
   "outputs": [
    {
     "name": "stdout",
     "output_type": "stream",
     "text": [
      "[[0. 0. 0.]\n",
      " [0. 0. 0.]\n",
      " [0. 0. 0.]]\n"
     ]
    }
   ],
   "source": [
    "# Matrzi de Numpy con 0\n",
    "m_zeros = np.zeros((3, 3))\n",
    "print(m_zeros)"
   ]
  },
  {
   "cell_type": "code",
   "execution_count": 15,
   "metadata": {},
   "outputs": [
    {
     "name": "stdout",
     "output_type": "stream",
     "text": [
      "[1. 1. 1. 1. 1. 1. 1. 1. 1. 1.]\n"
     ]
    }
   ],
   "source": [
    "# Vector de Numpy con 1\n",
    "v_ones = np.ones(10)\n",
    "print(v_ones)"
   ]
  },
  {
   "cell_type": "code",
   "execution_count": 16,
   "metadata": {},
   "outputs": [
    {
     "name": "stdout",
     "output_type": "stream",
     "text": [
      "[[1. 1. 1.]\n",
      " [1. 1. 1.]\n",
      " [1. 1. 1.]]\n"
     ]
    }
   ],
   "source": [
    "# Matriz de Numpy con 1\n",
    "m_ones = np.ones((3, 3))\n",
    "print(m_ones)"
   ]
  },
  {
   "cell_type": "code",
   "execution_count": 17,
   "metadata": {},
   "outputs": [
    {
     "name": "stdout",
     "output_type": "stream",
     "text": [
      "[0.07156115 0.42678748 0.98623408 0.53494241 0.69973872 0.1775903\n",
      " 0.33211637 0.64332916 0.62542038 0.37989839]\n"
     ]
    }
   ],
   "source": [
    "# Vector de Numpy con valores aleatorios\n",
    "v_rand = np.random.rand(10)\n",
    "print(v_rand)"
   ]
  },
  {
   "cell_type": "code",
   "execution_count": 18,
   "metadata": {},
   "outputs": [
    {
     "name": "stdout",
     "output_type": "stream",
     "text": [
      "[[0.98792613 0.20692907 0.11704566]\n",
      " [0.59539916 0.16478996 0.29709975]\n",
      " [0.81591653 0.13558256 0.65122526]]\n"
     ]
    }
   ],
   "source": [
    "# Matriz de Numpy con valores aleatorios\n",
    "m_rand = np.random.rand(3, 3)\n",
    "print(m_rand)"
   ]
  },
  {
   "cell_type": "code",
   "execution_count": 23,
   "metadata": {},
   "outputs": [
    {
     "name": "stdout",
     "output_type": "stream",
     "text": [
      "[ 0.          0.1010101   0.2020202   0.3030303   0.4040404   0.50505051\n",
      "  0.60606061  0.70707071  0.80808081  0.90909091  1.01010101  1.11111111\n",
      "  1.21212121  1.31313131  1.41414141  1.51515152  1.61616162  1.71717172\n",
      "  1.81818182  1.91919192  2.02020202  2.12121212  2.22222222  2.32323232\n",
      "  2.42424242  2.52525253  2.62626263  2.72727273  2.82828283  2.92929293\n",
      "  3.03030303  3.13131313  3.23232323  3.33333333  3.43434343  3.53535354\n",
      "  3.63636364  3.73737374  3.83838384  3.93939394  4.04040404  4.14141414\n",
      "  4.24242424  4.34343434  4.44444444  4.54545455  4.64646465  4.74747475\n",
      "  4.84848485  4.94949495  5.05050505  5.15151515  5.25252525  5.35353535\n",
      "  5.45454545  5.55555556  5.65656566  5.75757576  5.85858586  5.95959596\n",
      "  6.06060606  6.16161616  6.26262626  6.36363636  6.46464646  6.56565657\n",
      "  6.66666667  6.76767677  6.86868687  6.96969697  7.07070707  7.17171717\n",
      "  7.27272727  7.37373737  7.47474747  7.57575758  7.67676768  7.77777778\n",
      "  7.87878788  7.97979798  8.08080808  8.18181818  8.28282828  8.38383838\n",
      "  8.48484848  8.58585859  8.68686869  8.78787879  8.88888889  8.98989899\n",
      "  9.09090909  9.19191919  9.29292929  9.39393939  9.49494949  9.5959596\n",
      "  9.6969697   9.7979798   9.8989899  10.        ]\n"
     ]
    }
   ],
   "source": [
    "# Linspace de Numpy\n",
    "# 10 valores entre 0 y 10 (incluyendo 0 y 10) y 100 valores en total\n",
    "v_linspace = np.linspace(0, 10, 100)\n",
    "print(v_linspace)"
   ]
  },
  {
   "cell_type": "code",
   "execution_count": 25,
   "metadata": {},
   "outputs": [
    {
     "name": "stdout",
     "output_type": "stream",
     "text": [
      "[[1. 0. 0. 0.]\n",
      " [0. 1. 0. 0.]\n",
      " [0. 0. 1. 0.]\n",
      " [0. 0. 0. 1.]]\n"
     ]
    }
   ],
   "source": [
    "# Matriz de Numpy con eye\n",
    "m_eye = np.eye(4)\n",
    "print(m_eye)"
   ]
  },
  {
   "cell_type": "code",
   "execution_count": 28,
   "metadata": {},
   "outputs": [
    {
     "name": "stdout",
     "output_type": "stream",
     "text": [
      "[[0.72339362 0.0808935  0.51923975 0.07127419]\n",
      " [0.89793491 0.6442078  0.89164874 0.34175347]\n",
      " [0.18722806 0.93942996 0.80512766 0.57999401]\n",
      " [0.87493246 0.13600452 0.34619588 0.52824253]]\n"
     ]
    }
   ],
   "source": [
    "# Matrzi con valor aleatorio entre 0 y 1\n",
    "v_rand = np.random.rand(4, 4)\n",
    "print(v_rand)"
   ]
  },
  {
   "cell_type": "code",
   "execution_count": 31,
   "metadata": {},
   "outputs": [
    {
     "name": "stdout",
     "output_type": "stream",
     "text": [
      "[8 8 3 9 1 3 6 4 7 1 2 7 5 9 3 4 1 6 4 7 5 6 7 5 3 4 5 9 3 2 8 2 5 2 5 5 8\n",
      " 9 6 7 1 2 4 6 2 3 5 6 5 1 9 2 6 7 5 9 6 4 1 5 3 9 8 6 8 8 2 5 1 3 3 5 6 7\n",
      " 8 7 9 8 4 8 9 5 2 9 8 2 4 3 2 2 7 3 6 4 6 1 6 8 8 6]\n"
     ]
    }
   ],
   "source": [
    "# Valor aleatorio\n",
    "# 1 y 10 son los valores mínimo y máximo del rango de valores aleatorios a generar (1, 10) y 100 valores en total (100 valores aleatorios)\n",
    "v_rand = np.random.randint(1, 10, 100)\n",
    "print(v_rand)"
   ]
  }
 ],
 "metadata": {
  "interpreter": {
   "hash": "ed2c9f1d4717a77a197931118c3b4c7dd539f1a8a975ffd00a7b0237e1a0633b"
  },
  "kernelspec": {
   "display_name": "Python 3.9.10 ('venv': venv)",
   "language": "python",
   "name": "python3"
  },
  "language_info": {
   "codemirror_mode": {
    "name": "ipython",
    "version": 3
   },
   "file_extension": ".py",
   "mimetype": "text/x-python",
   "name": "python",
   "nbconvert_exporter": "python",
   "pygments_lexer": "ipython3",
   "version": "3.9.10"
  },
  "orig_nbformat": 4
 },
 "nbformat": 4,
 "nbformat_minor": 2
}
