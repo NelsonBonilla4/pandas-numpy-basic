{
 "cells": [
  {
   "cell_type": "markdown",
   "metadata": {},
   "source": [
    "# Funciones principales"
   ]
  },
  {
   "cell_type": "code",
   "execution_count": 107,
   "metadata": {},
   "outputs": [],
   "source": [
    "import numpy as np"
   ]
  },
  {
   "cell_type": "code",
   "execution_count": 108,
   "metadata": {},
   "outputs": [
    {
     "data": {
      "text/plain": [
       "array([[6, 2, 3, 4, 1],\n",
       "       [6, 3, 7, 4, 6],\n",
       "       [9, 8, 5, 4, 7],\n",
       "       [3, 1, 7, 5, 8]])"
      ]
     },
     "execution_count": 108,
     "metadata": {},
     "output_type": "execute_result"
    }
   ],
   "source": [
    "# Generamos un array\n",
    "\n",
    "arr = np.random.randint(1, 10, 20)\n",
    "matriz = arr.reshape(4, 5)\n",
    "matriz"
   ]
  },
  {
   "cell_type": "code",
   "execution_count": 109,
   "metadata": {},
   "outputs": [
    {
     "data": {
      "text/plain": [
       "9"
      ]
     },
     "execution_count": 109,
     "metadata": {},
     "output_type": "execute_result"
    }
   ],
   "source": [
    "# Valor maximo en un vector\n",
    "arr.max()"
   ]
  },
  {
   "cell_type": "code",
   "execution_count": 110,
   "metadata": {},
   "outputs": [
    {
     "name": "stdout",
     "output_type": "stream",
     "text": [
      "Valor máximo en la matriz:  9\n",
      "Valor mínimo en la matriz:  1\n"
     ]
    }
   ],
   "source": [
    "# Valor máximo y minimo en una matriz\n",
    "val_max = matriz.max()\n",
    "val_min = matriz.min()\n",
    "print(\"Valor máximo en la matriz: \", val_max)\n",
    "print(\"Valor mínimo en la matriz: \", val_min)"
   ]
  },
  {
   "cell_type": "code",
   "execution_count": 111,
   "metadata": {},
   "outputs": [
    {
     "name": "stdout",
     "output_type": "stream",
     "text": [
      "Valor máximo en la columna:  [9 8 7 5 8]\n",
      "Valor mínimo en la columna:  [3 1 3 4 1]\n"
     ]
    }
   ],
   "source": [
    "# Valor máximo en una matriz en una columna\n",
    "col_max = matriz.max(axis=0)\n",
    "col_min = matriz.min(axis=0)\n",
    "print(\"Valor máximo en la columna: \", col_max)\n",
    "print(\"Valor mínimo en la columna: \", col_min)"
   ]
  },
  {
   "cell_type": "code",
   "execution_count": 112,
   "metadata": {},
   "outputs": [
    {
     "name": "stdout",
     "output_type": "stream",
     "text": [
      "Valor máximo en la fila:  [6 7 9 8]\n",
      "Valor mínimo en la fila:  [1 3 4 1]\n"
     ]
    }
   ],
   "source": [
    "# Valor máximo en una matriz en una fila\n",
    "f_max = matriz.max(axis=1)\n",
    "f_min = matriz.min(axis=1)\n",
    "print(\"Valor máximo en la fila: \", f_max)\n",
    "print(\"Valor mínimo en la fila: \", f_min)"
   ]
  },
  {
   "cell_type": "code",
   "execution_count": 113,
   "metadata": {},
   "outputs": [
    {
     "name": "stdout",
     "output_type": "stream",
     "text": [
      "Argmax:  10\n",
      "Argmin:  4\n",
      "Vector:  [6 2 3 4 1 6 3 7 4 6 9 8 5 4 7 3 1 7 5 8]\n"
     ]
    }
   ],
   "source": [
    "# Argmax y argmin en un vector\n",
    "amx_arr = arr.argmax()\n",
    "amn_arr = arr.argmin()\n",
    "print(\"Argmax: \", amx_arr)\n",
    "print(\"Argmin: \", amn_arr)\n",
    "print(\"Vector: \", arr)"
   ]
  },
  {
   "cell_type": "markdown",
   "metadata": {},
   "source": [
    "#### Argmax y Argmin en matrices"
   ]
  },
  {
   "cell_type": "code",
   "execution_count": 114,
   "metadata": {},
   "outputs": [
    {
     "name": "stdout",
     "output_type": "stream",
     "text": [
      "Argmax:  10\n",
      "Argmin:  4\n",
      "Matriz: \n",
      " [[6 2 3 4 1]\n",
      " [6 3 7 4 6]\n",
      " [9 8 5 4 7]\n",
      " [3 1 7 5 8]]\n"
     ]
    }
   ],
   "source": [
    "# Argmax y argmin toda la matriz\n",
    "amx_matriz = matriz.argmax()\n",
    "amn_matriz = matriz.argmin()\n",
    "print(\"Argmax: \", amx_matriz)\n",
    "print(\"Argmin: \", amn_matriz)\n",
    "print(\"Matriz: \\n\", matriz)"
   ]
  },
  {
   "cell_type": "code",
   "execution_count": 115,
   "metadata": {},
   "outputs": [
    {
     "name": "stdout",
     "output_type": "stream",
     "text": [
      "Argmax:  [2 2 1 3 3]\n",
      "Argmin:  [3 3 0 0 0]\n",
      "Matriz: \n",
      " [[6 2 3 4 1]\n",
      " [6 3 7 4 6]\n",
      " [9 8 5 4 7]\n",
      " [3 1 7 5 8]]\n"
     ]
    }
   ],
   "source": [
    "# En la dimension 0\n",
    "amx_matriz = matriz.argmax(axis=0)\n",
    "amn_matriz = matriz.argmin(axis=0)\n",
    "print(\"Argmax: \", amx_matriz)\n",
    "print(\"Argmin: \", amn_matriz)\n",
    "print(\"Matriz: \\n\", matriz)"
   ]
  },
  {
   "cell_type": "code",
   "execution_count": 116,
   "metadata": {},
   "outputs": [
    {
     "name": "stdout",
     "output_type": "stream",
     "text": [
      "Argmax:  [0 2 0 4]\n",
      "Argmin:  [4 1 3 1]\n",
      "Matriz: \n",
      " [[6 2 3 4 1]\n",
      " [6 3 7 4 6]\n",
      " [9 8 5 4 7]\n",
      " [3 1 7 5 8]]\n"
     ]
    }
   ],
   "source": [
    "# En la dimension 1\n",
    "amx_matriz = matriz.argmax(axis=1)\n",
    "amn_matriz = matriz.argmin(axis=1)\n",
    "print(\"Argmax: \", amx_matriz)\n",
    "print(\"Argmin: \", amn_matriz)\n",
    "print(\"Matriz: \\n\", matriz)"
   ]
  },
  {
   "cell_type": "markdown",
   "metadata": {},
   "source": [
    "#### Distancia entre el valor más bajo con el más alto"
   ]
  },
  {
   "cell_type": "code",
   "execution_count": 117,
   "metadata": {},
   "outputs": [
    {
     "name": "stdout",
     "output_type": "stream",
     "text": [
      "Ptp array:  8\n",
      "Ptp matriz:  [6 7 4 1 7]\n"
     ]
    }
   ],
   "source": [
    "# pic to pic \n",
    "\n",
    "ptp_arr = arr.ptp()\n",
    "ptp_matriz = matriz.ptp(axis=0)\n",
    "print(\"Ptp array: \", ptp_arr)\n",
    "print(\"Ptp matriz: \", ptp_matriz)\n"
   ]
  },
  {
   "cell_type": "markdown",
   "metadata": {},
   "source": [
    "# Funciones Estadisticas"
   ]
  },
  {
   "cell_type": "code",
   "execution_count": 118,
   "metadata": {},
   "outputs": [
    {
     "name": "stdout",
     "output_type": "stream",
     "text": [
      "Nueva Matriz: \n",
      " [[ 2  4 17  4]\n",
      " [ 7 10  7  7]\n",
      " [14 10  3 14]\n",
      " [ 8 18 17 18]\n",
      " [ 4 11 12 14]]\n"
     ]
    }
   ],
   "source": [
    "# Generamos nuestro Array\n",
    "\n",
    "new_arr = np.random.randint(1, 20, 20)\n",
    "new_mat =  new_arr.reshape(5, 4)\n",
    "\n",
    "print(\"Nueva Matriz: \\n\", new_mat)"
   ]
  },
  {
   "cell_type": "code",
   "execution_count": 119,
   "metadata": {},
   "outputs": [
    {
     "name": "stdout",
     "output_type": "stream",
     "text": [
      "Array:  [ 2  4 17  4  7 10  7  7 14 10  3 14  8 18 17 18  4 11 12 14]\n",
      "Percentil:  10.0\n"
     ]
    }
   ],
   "source": [
    "per_arr = np.percentile(new_arr, 50)\n",
    "\n",
    "print(\"Array: \", new_arr)\n",
    "print(\"Percentil: \", per_arr)"
   ]
  },
  {
   "cell_type": "code",
   "execution_count": 120,
   "metadata": {},
   "outputs": [
    {
     "name": "stdout",
     "output_type": "stream",
     "text": [
      "Array ordenado:  [ 2  3  4  4  4  7  7  7  8 10 10 11 12 14 14 14 17 17 18 18]\n"
     ]
    }
   ],
   "source": [
    "# Ordenamos el array con ola funcion sort\n",
    "\n",
    "new_arr.sort()\n",
    "print(\"Array ordenado: \", new_arr)"
   ]
  },
  {
   "cell_type": "code",
   "execution_count": 121,
   "metadata": {},
   "outputs": [
    {
     "name": "stdout",
     "output_type": "stream",
     "text": [
      "Mediana:  10.0\n"
     ]
    }
   ],
   "source": [
    "# Mediana\n",
    "med_arr = np.median(new_arr)\n",
    "print(\"Mediana: \", med_arr)"
   ]
  },
  {
   "cell_type": "code",
   "execution_count": 122,
   "metadata": {},
   "outputs": [
    {
     "name": "stdout",
     "output_type": "stream",
     "text": [
      "Media:  10.05\n"
     ]
    }
   ],
   "source": [
    "# Media\n",
    "media_arr = np.mean(new_arr)\n",
    "print(\"Media: \", media_arr)"
   ]
  },
  {
   "cell_type": "code",
   "execution_count": 123,
   "metadata": {},
   "outputs": [
    {
     "name": "stdout",
     "output_type": "stream",
     "text": [
      "Desviación estándar:  5.152426612771889\n"
     ]
    }
   ],
   "source": [
    "# Desviación estándar\n",
    "std_arr = np.std(new_arr)\n",
    "print(\"Desviación estándar: \", std_arr)"
   ]
  },
  {
   "cell_type": "code",
   "execution_count": 124,
   "metadata": {},
   "outputs": [
    {
     "name": "stdout",
     "output_type": "stream",
     "text": [
      "Varianza:  26.547500000000003\n"
     ]
    }
   ],
   "source": [
    "# Varianza\n",
    "var_arr = np.var(new_arr)\n",
    "print(\"Varianza: \", var_arr)"
   ]
  },
  {
   "cell_type": "code",
   "execution_count": 129,
   "metadata": {},
   "outputs": [
    {
     "data": {
      "text/plain": [
       "array([[1, 2],\n",
       "       [3, 4],\n",
       "       [5, 6],\n",
       "       [7, 8]])"
      ]
     },
     "execution_count": 129,
     "metadata": {},
     "output_type": "execute_result"
    }
   ],
   "source": [
    "# Concatenación de arrays\n",
    "\n",
    "a = np.array([[1,2],[3,4]])\n",
    "b = np.array([[5,6],[7,8]])\n",
    "\n",
    "np.concatenate((a,b))"
   ]
  },
  {
   "cell_type": "code",
   "execution_count": null,
   "metadata": {},
   "outputs": [],
   "source": []
  }
 ],
 "metadata": {
  "kernelspec": {
   "display_name": "Python 3.10.5 ('venv': venv)",
   "language": "python",
   "name": "python3"
  },
  "language_info": {
   "codemirror_mode": {
    "name": "ipython",
    "version": 3
   },
   "file_extension": ".py",
   "mimetype": "text/x-python",
   "name": "python",
   "nbconvert_exporter": "python",
   "pygments_lexer": "ipython3",
   "version": "3.10.6"
  },
  "orig_nbformat": 4,
  "vscode": {
   "interpreter": {
    "hash": "03473530ce548d1b7d0f3b371023881334bf3d6343ec97060a60a31544288c5a"
   }
  }
 },
 "nbformat": 4,
 "nbformat_minor": 2
}
